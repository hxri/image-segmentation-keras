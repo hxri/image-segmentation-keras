{
 "cells": [
  {
   "cell_type": "code",
   "execution_count": 1,
   "id": "surrounded-money",
   "metadata": {},
   "outputs": [],
   "source": [
    "from keras_segmentation.models.pspnet import pspnet_101"
   ]
  },
  {
   "cell_type": "code",
   "execution_count": null,
   "id": "compatible-introduction",
   "metadata": {},
   "outputs": [
    {
     "name": "stderr",
     "output_type": "stream",
     "text": [
      "  3%|██▎                                                                                | 2/70 [00:00<00:04, 14.11it/s]"
     ]
    },
    {
     "name": "stdout",
     "output_type": "stream",
     "text": [
      "Verifying training dataset\n"
     ]
    },
    {
     "name": "stderr",
     "output_type": "stream",
     "text": [
      "100%|██████████████████████████████████████████████████████████████████████████████████| 70/70 [00:05<00:00, 13.89it/s]\n",
      "  7%|█████▌                                                                             | 2/30 [00:00<00:01, 14.81it/s]"
     ]
    },
    {
     "name": "stdout",
     "output_type": "stream",
     "text": [
      "Dataset verified! \n",
      "Verifying validation dataset\n"
     ]
    },
    {
     "name": "stderr",
     "output_type": "stream",
     "text": [
      "100%|██████████████████████████████████████████████████████████████████████████████████| 30/30 [00:02<00:00, 13.80it/s]\n"
     ]
    },
    {
     "name": "stdout",
     "output_type": "stream",
     "text": [
      "Dataset verified! \n",
      "Epoch 1/100\n",
      "512/512 [==============================] - ETA: 0s - loss: 0.0732 - accuracy: 0.9904"
     ]
    }
   ],
   "source": [
    "model = pspnet_101(n_classes=200)\n",
    "\n",
    "model.train(\n",
    "    train_images =  \"dataset/train_images/\",\n",
    "    train_annotations = \"dataset/train_annotations/\",\n",
    "    checkpoints_path = \"checkpoints/pspnet_101/\",\n",
    "    epochs=100,\n",
    "    batch_size=1, \n",
    "    val_images=\"dataset/val_images/\",\n",
    "    val_annotations=\"dataset/val_annotations/\",\n",
    "    val_batch_size=1,\n",
    "    validate=True,\n",
    "    auto_resume_checkpoint=True\n",
    ")"
   ]
  },
  {
   "cell_type": "code",
   "execution_count": null,
   "id": "metallic-dimension",
   "metadata": {},
   "outputs": [],
   "source": [
    "out = model.predict_segmentation(\n",
    "    inp=\"dataset/predict_images/2205.tif\",\n",
    "    out_fname=\"dataset/predict_output/out2.png\",\n",
    "    checkpoints_path = \"checkpoints/pspnet_101/\"\n",
    ")\n",
    "\n",
    "import matplotlib.pyplot as plt\n",
    "plt.imshow(out)"
   ]
  },
  {
   "cell_type": "code",
   "execution_count": null,
   "id": "adaptive-calendar",
   "metadata": {},
   "outputs": [],
   "source": []
  }
 ],
 "metadata": {
  "kernelspec": {
   "display_name": "Python 3",
   "language": "python",
   "name": "python3"
  },
  "language_info": {
   "codemirror_mode": {
    "name": "ipython",
    "version": 3
   },
   "file_extension": ".py",
   "mimetype": "text/x-python",
   "name": "python",
   "nbconvert_exporter": "python",
   "pygments_lexer": "ipython3",
   "version": "3.7.10"
  }
 },
 "nbformat": 4,
 "nbformat_minor": 5
}
