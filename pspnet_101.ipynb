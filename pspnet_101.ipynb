{
 "cells": [
  {
   "cell_type": "code",
   "execution_count": 1,
   "id": "preliminary-damages",
   "metadata": {},
   "outputs": [],
   "source": [
    "from keras_segmentation.models.pspnet import pspnet_101"
   ]
  },
  {
   "cell_type": "code",
   "execution_count": 2,
   "id": "silent-stocks",
   "metadata": {},
   "outputs": [
    {
     "name": "stderr",
     "output_type": "stream",
     "text": [
      "  3%|██▎                                                                                | 2/70 [00:00<00:05, 12.51it/s]"
     ]
    },
    {
     "name": "stdout",
     "output_type": "stream",
     "text": [
      "Verifying training dataset\n"
     ]
    },
    {
     "name": "stderr",
     "output_type": "stream",
     "text": [
      "100%|██████████████████████████████████████████████████████████████████████████████████| 70/70 [00:05<00:00, 12.55it/s]\n",
      "  7%|█████▌                                                                             | 2/30 [00:00<00:02, 13.70it/s]"
     ]
    },
    {
     "name": "stdout",
     "output_type": "stream",
     "text": [
      "Dataset verified! \n",
      "Verifying validation dataset\n"
     ]
    },
    {
     "name": "stderr",
     "output_type": "stream",
     "text": [
      "100%|██████████████████████████████████████████████████████████████████████████████████| 30/30 [00:02<00:00, 12.52it/s]\n"
     ]
    },
    {
     "name": "stdout",
     "output_type": "stream",
     "text": [
      "Dataset verified! \n",
      "Epoch 1/5\n",
      "70/70 [==============================] - ETA: 0s - loss: 0.4120 - accuracy: 0.9454\n",
      "Epoch 00001: saving model to checkpoints\\.00001\n",
      "70/70 [==============================] - 91s 1s/step - loss: 0.4120 - accuracy: 0.9454 - val_loss: 5.2558 - val_accuracy: 1.0000\n",
      "Epoch 2/5\n",
      "70/70 [==============================] - ETA: 0s - loss: 0.0021 - accuracy: 1.0000\n",
      "Epoch 00002: saving model to checkpoints\\.00002\n",
      "70/70 [==============================] - 91s 1s/step - loss: 0.0021 - accuracy: 1.0000 - val_loss: 5.2544 - val_accuracy: 1.0000\n",
      "Epoch 3/5\n",
      "70/70 [==============================] - ETA: 0s - loss: 0.0012 - accuracy: 1.0000\n",
      "Epoch 00003: saving model to checkpoints\\.00003\n",
      "70/70 [==============================] - 90s 1s/step - loss: 0.0012 - accuracy: 1.0000 - val_loss: 5.2534 - val_accuracy: 1.0000\n",
      "Epoch 4/5\n",
      "70/70 [==============================] - ETA: 0s - loss: 8.4814e-04 - accuracy: 1.0000\n",
      "Epoch 00004: saving model to checkpoints\\.00004\n",
      "70/70 [==============================] - 90s 1s/step - loss: 8.4814e-04 - accuracy: 1.0000 - val_loss: 5.2526 - val_accuracy: 1.0000\n",
      "Epoch 5/5\n",
      "70/70 [==============================] - ETA: 0s - loss: 6.4107e-04 - accuracy: 1.0000\n",
      "Epoch 00005: saving model to checkpoints\\.00005\n",
      "70/70 [==============================] - 90s 1s/step - loss: 6.4107e-04 - accuracy: 1.0000 - val_loss: 5.2519 - val_accuracy: 1.0000\n"
     ]
    }
   ],
   "source": [
    "model = pspnet_101(n_classes=200)\n",
    "\n",
    "model.train(\n",
    "    train_images =  \"dataset/train_images/\",\n",
    "    train_annotations = \"dataset/train_annotations/\",\n",
    "    checkpoints_path = \"checkpoints/\",\n",
    "    epochs=5,\n",
    "    steps_per_epoch=70,\n",
    "    batch_size=1, \n",
    "    val_images=\"dataset/val_images/\",\n",
    "    val_annotations=\"dataset/val_annotations/\",\n",
    "    val_batch_size=1,\n",
    "    val_steps_per_epoch=30,\n",
    "    validate=True,\n",
    "    auto_resume_checkpoint=True\n",
    ")"
   ]
  },
  {
   "cell_type": "code",
   "execution_count": 4,
   "id": "deluxe-marble",
   "metadata": {},
   "outputs": [
    {
     "data": {
      "text/plain": [
       "<matplotlib.image.AxesImage at 0x2de1fb20988>"
      ]
     },
     "execution_count": 4,
     "metadata": {},
     "output_type": "execute_result"
    },
    {
     "data": {
      "image/png": "[encoded data removed]",
      "text/plain": [
       "<Figure size 432x288 with 1 Axes>"
      ]
     },
     "metadata": {
      "needs_background": "light"
     },
     "output_type": "display_data"
    }
   ],
   "source": [
    "out = model.predict_segmentation(\n",
    "    inp=\"dataset/predict_images/2205.tif\",\n",
    "    out_fname=\"dataset/predict_output/out2.png\",\n",
    "    checkpoints_path = \"checkpoints/\"\n",
    ")\n",
    "\n",
    "import matplotlib.pyplot as plt\n",
    "plt.imshow(out)"
   ]
  },
  {
   "cell_type": "code",
   "execution_count": 6,
   "id": "distinguished-roman",
   "metadata": {},
   "outputs": [
    {
     "name": "stdout",
     "output_type": "stream",
     "text": [
      "Loading weights from  Saved_models/weights/pspnet_101.h5\n",
      "Loading the weights from latest checkpoint  checkpoints\\.00005\n"
     ]
    },
    {
     "name": "stderr",
     "output_type": "stream",
     "text": [
      "  3%|██▎                                                                                | 2/70 [00:00<00:05, 12.13it/s]"
     ]
    },
    {
     "name": "stdout",
     "output_type": "stream",
     "text": [
      "Verifying training dataset\n"
     ]
    },
    {
     "name": "stderr",
     "output_type": "stream",
     "text": [
      "100%|██████████████████████████████████████████████████████████████████████████████████| 70/70 [00:05<00:00, 12.44it/s]\n",
      "  7%|█████▌                                                                             | 2/30 [00:00<00:02, 12.85it/s]"
     ]
    },
    {
     "name": "stdout",
     "output_type": "stream",
     "text": [
      "Dataset verified! \n",
      "Verifying validation dataset\n"
     ]
    },
    {
     "name": "stderr",
     "output_type": "stream",
     "text": [
      "100%|██████████████████████████████████████████████████████████████████████████████████| 30/30 [00:02<00:00, 12.40it/s]\n"
     ]
    },
    {
     "name": "stdout",
     "output_type": "stream",
     "text": [
      "Dataset verified! \n",
      "Epoch 6/6\n",
      "70/70 [==============================] - ETA: 0s - loss: 4.6887e-04 - accuracy: 1.0000\n",
      "Epoch 00006: saving model to checkpoints\\.00006\n",
      "70/70 [==============================] - 93s 1s/step - loss: 4.6887e-04 - accuracy: 1.0000 - val_loss: 5.2506 - val_accuracy: 1.0000\n"
     ]
    }
   ],
   "source": [
    "model2 = pspnet_101(n_classes=200)\n",
    "\n",
    "model2.train(\n",
    "    train_images =  \"dataset/train_images/\",\n",
    "    train_annotations = \"dataset/train_annotations/\",\n",
    "    checkpoints_path = \"checkpoints/\" , epochs=6,\n",
    "    steps_per_epoch=70, batch_size=1, \n",
    "    val_images=\"dataset/val_images/\",\n",
    "    val_annotations=\"dataset/val_annotations/\",\n",
    "    val_batch_size=1,\n",
    "    val_steps_per_epoch=30,\n",
    "    validate=True,\n",
    "    load_weights=\"Saved_models/weights/pspnet_101.h5\",\n",
    "    auto_resume_checkpoint=True\n",
    ")"
   ]
  },
  {
   "cell_type": "code",
   "execution_count": 8,
   "id": "connected-assault",
   "metadata": {},
   "outputs": [
    {
     "data": {
      "text/plain": [
       "<matplotlib.image.AxesImage at 0x213838978c8>"
      ]
     },
     "execution_count": 8,
     "metadata": {},
     "output_type": "execute_result"
    },
    {
     "data": {
      "image/png": "[encoded data removed]",
      "text/plain": [
       "<Figure size 432x288 with 1 Axes>"
      ]
     },
     "metadata": {
      "needs_background": "light"
     },
     "output_type": "display_data"
    }
   ],
   "source": [
    "out = model.predict(\n",
    "    inp=\"dataset/predict_images/2205.tif\",\n",
    "    out_fname=\"dataset/predict_output/out.png\",\n",
    "    checkpoints_path = \"checkpoints/\"\n",
    ")\n",
    "\n",
    "import matplotlib.pyplot as plt\n",
    "plt.imshow(out)"
   ]
  },
  {
   "cell_type": "code",
   "execution_count": 9,
   "id": "crucial-forestry",
   "metadata": {},
   "outputs": [
    {
     "name": "stdout",
     "output_type": "stream",
     "text": [
      "loaded weights  checkpoints\\.00006\n"
     ]
    },
    {
     "name": "stderr",
     "output_type": "stream",
     "text": [
      "2021-03-05 17:39:28.141179: I tensorflow/stream_executor/platform/default/dso_loader.cc:48] Successfully opened dynamic library cudart64_101.dll\n",
      "2021-03-05 17:39:30.478267: I tensorflow/stream_executor/platform/default/dso_loader.cc:48] Successfully opened dynamic library nvcuda.dll\n",
      "2021-03-05 17:39:30.517667: I tensorflow/core/common_runtime/gpu/gpu_device.cc:1716] Found device 0 with properties: \n",
      "pciBusID: 0000:01:00.0 name: GeForce RTX 2080 computeCapability: 7.5\n",
      "coreClock: 1.86GHz coreCount: 46 deviceMemorySize: 8.00GiB deviceMemoryBandwidth: 417.23GiB/s\n",
      "2021-03-05 17:39:30.517909: I tensorflow/stream_executor/platform/default/dso_loader.cc:48] Successfully opened dynamic library cudart64_101.dll\n",
      "2021-03-05 17:39:30.522831: I tensorflow/stream_executor/platform/default/dso_loader.cc:48] Successfully opened dynamic library cublas64_10.dll\n",
      "2021-03-05 17:39:30.525854: I tensorflow/stream_executor/platform/default/dso_loader.cc:48] Successfully opened dynamic library cufft64_10.dll\n",
      "2021-03-05 17:39:30.527623: I tensorflow/stream_executor/platform/default/dso_loader.cc:48] Successfully opened dynamic library curand64_10.dll\n",
      "2021-03-05 17:39:30.534769: I tensorflow/stream_executor/platform/default/dso_loader.cc:48] Successfully opened dynamic library cusolver64_10.dll\n",
      "2021-03-05 17:39:30.540285: I tensorflow/stream_executor/platform/default/dso_loader.cc:48] Successfully opened dynamic library cusparse64_10.dll\n",
      "2021-03-05 17:39:30.548985: I tensorflow/stream_executor/platform/default/dso_loader.cc:48] Successfully opened dynamic library cudnn64_7.dll\n",
      "2021-03-05 17:39:30.549231: I tensorflow/core/common_runtime/gpu/gpu_device.cc:1858] Adding visible gpu devices: 0\n",
      "2021-03-05 17:39:30.549845: I tensorflow/core/platform/cpu_feature_guard.cc:142] This TensorFlow binary is optimized with oneAPI Deep Neural Network Library (oneDNN)to use the following CPU instructions in performance-critical operations:  AVX AVX2\n",
      "To enable them in other operations, rebuild TensorFlow with the appropriate compiler flags.\n",
      "2021-03-05 17:39:30.557770: I tensorflow/compiler/xla/service/service.cc:168] XLA service 0x17d97fb1d50 initialized for platform Host (this does not guarantee that XLA will be used). Devices:\n",
      "2021-03-05 17:39:30.558003: I tensorflow/compiler/xla/service/service.cc:176]   StreamExecutor device (0): Host, Default Version\n",
      "2021-03-05 17:39:30.558331: I tensorflow/core/common_runtime/gpu/gpu_device.cc:1716] Found device 0 with properties: \n",
      "pciBusID: 0000:01:00.0 name: GeForce RTX 2080 computeCapability: 7.5\n",
      "coreClock: 1.86GHz coreCount: 46 deviceMemorySize: 8.00GiB deviceMemoryBandwidth: 417.23GiB/s\n",
      "2021-03-05 17:39:30.558647: I tensorflow/stream_executor/platform/default/dso_loader.cc:48] Successfully opened dynamic library cudart64_101.dll\n",
      "2021-03-05 17:39:30.558779: I tensorflow/stream_executor/platform/default/dso_loader.cc:48] Successfully opened dynamic library cublas64_10.dll\n",
      "2021-03-05 17:39:30.558935: I tensorflow/stream_executor/platform/default/dso_loader.cc:48] Successfully opened dynamic library cufft64_10.dll\n",
      "2021-03-05 17:39:30.559097: I tensorflow/stream_executor/platform/default/dso_loader.cc:48] Successfully opened dynamic library curand64_10.dll\n",
      "2021-03-05 17:39:30.559238: I tensorflow/stream_executor/platform/default/dso_loader.cc:48] Successfully opened dynamic library cusolver64_10.dll\n",
      "2021-03-05 17:39:30.559386: I tensorflow/stream_executor/platform/default/dso_loader.cc:48] Successfully opened dynamic library cusparse64_10.dll\n",
      "2021-03-05 17:39:30.559531: I tensorflow/stream_executor/platform/default/dso_loader.cc:48] Successfully opened dynamic library cudnn64_7.dll\n",
      "2021-03-05 17:39:30.559694: I tensorflow/core/common_runtime/gpu/gpu_device.cc:1858] Adding visible gpu devices: 0\n",
      "2021-03-05 17:39:31.013239: I tensorflow/core/common_runtime/gpu/gpu_device.cc:1257] Device interconnect StreamExecutor with strength 1 edge matrix:\n",
      "2021-03-05 17:39:31.013586: I tensorflow/core/common_runtime/gpu/gpu_device.cc:1263]      0 \n",
      "2021-03-05 17:39:31.013790: I tensorflow/core/common_runtime/gpu/gpu_device.cc:1276] 0:   N \n",
      "2021-03-05 17:39:31.014139: I tensorflow/core/common_runtime/gpu/gpu_device.cc:1402] Created TensorFlow device (/job:localhost/replica:0/task:0/device:GPU:0 with 6194 MB memory) -> physical GPU (device: 0, name: GeForce RTX 2080, pci bus id: 0000:01:00.0, compute capability: 7.5)\n",
      "2021-03-05 17:39:31.018595: I tensorflow/compiler/xla/service/service.cc:168] XLA service 0x17dbf763790 initialized for platform CUDA (this does not guarantee that XLA will be used). Devices:\n",
      "2021-03-05 17:39:31.018925: I tensorflow/compiler/xla/service/service.cc:176]   StreamExecutor device (0): GeForce RTX 2080, Compute Capability 7.5\n",
      "\n",
      "0it [00:00, ?it/s]\n",
      "0it [00:00, ?it/s]\n"
     ]
    }
   ],
   "source": [
    "!python -m keras_segmentation predict --checkpoints_path=\"checkpoints/\" --input_path=\"dataset/predict_images/2205.tif\" --output_path=\"dataset/predict_output/\""
   ]
  },
  {
   "cell_type": "code",
   "execution_count": null,
   "id": "above-continuity",
   "metadata": {},
   "outputs": [],
   "source": []
  }
 ],
 "metadata": {
  "kernelspec": {
   "display_name": "Python 3",
   "language": "python",
   "name": "python3"
  },
  "language_info": {
   "codemirror_mode": {
    "name": "ipython",
    "version": 3
   },
   "file_extension": ".py",
   "mimetype": "text/x-python",
   "name": "python",
   "nbconvert_exporter": "python",
   "pygments_lexer": "ipython3",
   "version": "3.7.10"
  }
 },
 "nbformat": 4,
 "nbformat_minor": 5
}
