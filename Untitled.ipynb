{
 "cells": [
  {
   "cell_type": "code",
   "execution_count": 1,
   "id": "graphic-intent",
   "metadata": {},
   "outputs": [],
   "source": [
    "from keras_segmentation.models.pspnet import pspnet_101"
   ]
  },
  {
   "cell_type": "code",
   "execution_count": null,
   "id": "worse-speech",
   "metadata": {},
   "outputs": [],
   "source": [
    "model = pspnet_101(n_classes=200)\n",
    "\n",
    "model.train(\n",
    "    train_images =  \"/dataset/train_annotations\",\n",
    "    train_annotations = \"/dataset/train_images\",\n",
    "    checkpoints_path = \"/checkpoints/\" , epochs=10,\n",
    "    steps_per_epoch=35\n",
    ")"
   ]
  }
 ],
 "metadata": {
  "kernelspec": {
   "display_name": "Python 3",
   "language": "python",
   "name": "python3"
  },
  "language_info": {
   "codemirror_mode": {
    "name": "ipython",
    "version": 3
   },
   "file_extension": ".py",
   "mimetype": "text/x-python",
   "name": "python",
   "nbconvert_exporter": "python",
   "pygments_lexer": "ipython3",
   "version": "3.7.10"
  }
 },
 "nbformat": 4,
 "nbformat_minor": 5
}
